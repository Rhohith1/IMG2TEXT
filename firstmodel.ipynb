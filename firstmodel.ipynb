{
 "cells": [
  {
   "cell_type": "code",
   "execution_count": 1,
   "id": "cb861395-aa6f-4375-9250-363e1144db48",
   "metadata": {
    "scrolled": true
   },
   "outputs": [
    {
     "name": "stdout",
     "output_type": "stream",
     "text": [
      "Extracted Text:\n",
      "‘Train the autoassociative network for input vector\n",
      "[—! 1 1 1} and also cese the nerwork for the\n",
      "same input vector. Test the aucoassociative net-\n",
      "work wich one missing, one mistake, avo missing\n",
      "and avo mistake entries in test vector.\n",
      "\n"
     ]
    }
   ],
   "source": [
    "import cv2\n",
    "import pytesseract\n",
    "from PIL import Image\n",
    "\n",
    "# Load the image using OpenCV\n",
    "image_path = 'loser.png'\n",
    "image_cv = cv2.imread(image_path)\n",
    "\n",
    "# Convert to grayscale\n",
    "gray = cv2.cvtColor(image_cv, cv2.COLOR_BGR2GRAY)\n",
    "\n",
    "# Apply simple binary thresholding\n",
    "_, binary_image = cv2.threshold(gray, 0, 255, cv2.THRESH_BINARY | cv2.THRESH_OTSU)\n",
    "\n",
    "# Save the processed image if needed\n",
    "processed_image_path = 'img61.png'\n",
    "cv2.imwrite(processed_image_path, binary_image)\n",
    "\n",
    "# Load the processed image with Pillow\n",
    "processed_image = Image.open(processed_image_path)\n",
    "\n",
    "# Use Tesseract to perform OCR on the processed image\n",
    "processed_text = pytesseract.image_to_string(processed_image)\n",
    "\n",
    "# Print the extracted text from the processed image\n",
    "print(\"Extracted Text:\")\n",
    "print(processed_text)\n",
    "\n",
    "# Display the processed binary image\n",
    "Image.fromarray(binary_image).show()\n"
   ]
  },
  {
   "cell_type": "code",
   "execution_count": null,
   "id": "aecdf8a5-157e-4239-9990-3d3094b2e3a2",
   "metadata": {},
   "outputs": [],
   "source": []
  }
 ],
 "metadata": {
  "kernelspec": {
   "display_name": "Python 3 (ipykernel)",
   "language": "python",
   "name": "python3"
  },
  "language_info": {
   "codemirror_mode": {
    "name": "ipython",
    "version": 3
   },
   "file_extension": ".py",
   "mimetype": "text/x-python",
   "name": "python",
   "nbconvert_exporter": "python",
   "pygments_lexer": "ipython3",
   "version": "3.11.9"
  }
 },
 "nbformat": 4,
 "nbformat_minor": 5
}
